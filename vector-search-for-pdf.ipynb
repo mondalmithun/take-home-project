{
 "cells": [
  {
   "cell_type": "markdown",
   "metadata": {},
   "source": [
    "1. Create a python virtual env if not exists to run this notebook.\n",
    "    > Sample: python -m venv .venv-exp\n",
    "2. Required requirements installation\n"
   ]
  },
  {
   "cell_type": "code",
   "execution_count": 1,
   "metadata": {},
   "outputs": [],
   "source": [
    "!pip install --q PyPDF2\n",
    "!pip install --q unstructured langchain\n",
    "!pip install --q chromadb\n",
    "!pip install --q sentence_transformers\n"
   ]
  },
  {
   "cell_type": "markdown",
   "metadata": {},
   "source": [
    "3. **Preprocessing Module -- with RecursiveCharacterTextSplitter and SentenceTransformersTokenTextSplitter**\n",
    "\n",
    "> All the texts extracted from the PDF in this example are single sentences, we can encode texts up to a specified word length. For example, \"all-MiniLM-L6-v2\" encodes texts up to 256 words (tokens_per_chunk=256). It’ll truncate any text longer than this. Ref: https://realpython.com/chromadb-vector-database/\n",
    "\n",
    "> Thats why character splitter (RecursiveCharacterTextSplitter) is not enough which produces text chunks more that 256 tokens thats I am using embedding model's SentenceTransformersTokenTextSplitter () with tokens_per_chunk=256 ,That’s the maximum context window length of our embedding model."
   ]
  },
  {
   "cell_type": "code",
   "execution_count": 4,
   "metadata": {},
   "outputs": [],
   "source": [
    "from langchain.text_splitter import CharacterTextSplitter, RecursiveCharacterTextSplitter, SentenceTransformersTokenTextSplitter\n",
    "\n",
    "\n",
    "def get_recursive_char_splitted_text(raw_texts):\n",
    "    _\n",
    "    character_splitter = RecursiveCharacterTextSplitter(\n",
    "        separators=[\"\\n\\n\", \"\\n\", \". \", \" \", \"\"],\n",
    "        chunk_size=1000,\n",
    "        chunk_overlap=0\n",
    "    )\n",
    "    character_split_texts = character_splitter.split_text('\\n\\n'.join(pdf_texts))\n",
    "\n",
    "    #print((character_split_texts[10]))\n",
    "    #print(f\"\\nTotal chunks: {len(character_split_texts)}\")\n",
    "\n",
    "    return character_split_texts\n",
    "\n",
    "def transform(raw_texts):\n",
    "\n",
    "    token_splitter = SentenceTransformersTokenTextSplitter(chunk_overlap=0, tokens_per_chunk=256)\n",
    "\n",
    "    token_split_texts = []\n",
    "    character_split_texts = get_recursive_char_splitted_text(raw_texts)\n",
    "    for text in character_split_texts:\n",
    "        token_split_texts += token_splitter.split_text(text)\n",
    "\n",
    "    #print((token_split_texts[10]))\n",
    "    #print(f\"\\nTotal chunks: {len(token_split_texts)}\")\n",
    "\n",
    "    return token_split_texts\n"
   ]
  },
  {
   "cell_type": "markdown",
   "metadata": {},
   "source": [
    "4. **Custom Vector Data Store class creation module** -encapsulating multple related functions with Chroma DB Client and collection creation, used default \"all-MiniLM-L6-v2\" model for embedding vector creation"
   ]
  },
  {
   "cell_type": "code",
   "execution_count": 21,
   "metadata": {},
   "outputs": [],
   "source": [
    "import chromadb\n",
    "from chromadb.utils.embedding_functions import SentenceTransformerEmbeddingFunction\n",
    "\n",
    "EMBED_MODEL = \"all-MiniLM-L6-v2\"\n",
    "CHROMA_DATA_PATH = \"chroma_vec_store/\"\n",
    "\n",
    "\n",
    "embedding_func = SentenceTransformerEmbeddingFunction(\n",
    "     model_name=EMBED_MODEL\n",
    " )\n",
    "\n",
    "class VectorDataStore:\n",
    "    def __init__(self, collection_name) -> None:\n",
    "        self.embedding_function = embedding_func\n",
    "        self.vector_db_client = chromadb.PersistentClient(path=CHROMA_DATA_PATH)\n",
    "        self.vector_collection = self.vector_db_client.create_collection(\n",
    "                                    name=collection_name,\n",
    "                                    embedding_function=embedding_func,\n",
    "                                    metadata={\"hnsw:space\": \"cosine\"},\n",
    "                                 )\n",
    "        \n",
    "    def populate_vectors(self, chunked_raw_datasets):\n",
    "        # Call preprocessor methods here\n",
    "        token_split_texts = transform(chunked_raw_datasets)\n",
    "        self.vector_collection.add(\n",
    "                                    ids=[str(i) for i in range(len(token_split_texts))],\n",
    "                                    documents=token_split_texts\n",
    "                                    )\n",
    "        print(f\"# of collections:{self.vector_collection.count()}\")\n",
    "\n",
    "    def search_vectors(self, query, n_results = 1):\n",
    "\n",
    "        \n",
    "\n",
    "        results = self.vector_collection.query(query_texts=[query], n_results=n_results)\n",
    "        retrieved_documents = results['documents'][0]\n",
    "\n",
    "        return retrieved_documents\n",
    "\n",
    "\n",
    "    "
   ]
  },
  {
   "cell_type": "markdown",
   "metadata": {},
   "source": [
    "5. **Reading input PDF file from local folder using PdfReader and created list[str] as text data**"
   ]
  },
  {
   "cell_type": "code",
   "execution_count": 22,
   "metadata": {},
   "outputs": [],
   "source": [
    "from PyPDF2 import PdfReader\n",
    "\n",
    "# location of the pdf file/files. \n",
    "reader = PdfReader('MS_2022_Annual_Report.pdf')\n",
    "pdf_texts = [p.extract_text().strip() for p in reader.pages]\n",
    "\n",
    "# Filter the empty strings\n",
    "pdf_texts = [text for text in pdf_texts if text]\n",
    "\n",
    "#print((pdf_texts[0]))\n",
    "#print(len(pdf_texts[0]))"
   ]
  },
  {
   "cell_type": "markdown",
   "metadata": {},
   "source": [
    "6. **Vector Data Store & embedding vector creation module --**"
   ]
  },
  {
   "cell_type": "code",
   "execution_count": 24,
   "metadata": {},
   "outputs": [
    {
     "name": "stdout",
     "output_type": "stream",
     "text": [
      "# of collections:349\n"
     ]
    }
   ],
   "source": [
    "COLLECTION_NAME = \"take-home-vec-store\" \n",
    "\n",
    "vector_store = VectorDataStore(COLLECTION_NAME)\n",
    "vector_store.populate_vectors(pdf_texts)\n"
   ]
  },
  {
   "cell_type": "markdown",
   "metadata": {},
   "source": [
    "7. **Finally querying the vector datastore using sample query string --**"
   ]
  },
  {
   "cell_type": "code",
   "execution_count": 25,
   "metadata": {},
   "outputs": [
    {
     "name": "stdout",
     "output_type": "stream",
     "text": [
      "revenue, classified by significant product and service offerings, was as follows : ( in millions ) year ended june 30, 2022 2021 2020 server products and cloud services $ 67, 321 $ 52, 589 $ 41, 379 office products and cloud services 44, 862 39, 872 35, 316 windows 24, 761 22, 488 21, 510 gaming 16, 230 15, 370 11, 575 linkedin 13, 816 10, 289 8, 077 search and news advertising 11, 591 9, 267 8, 524 enterprise services 7, 407 6, 943 6, 409 devices 6, 991 6, 791 6, 457 other 5, 291 4, 479 3, 768 total $ 198, 270 $ 168, 088 $ 143, 015 we have recast certain previously reported amounts in the table above to conform to the way we internally manage and monitor our business.\n",
      "\n",
      "\n",
      "74 note 13 — unearned revenue unearned revenue by segment was as follows : ( in millions ) june 30, 2022 2021 productivity and business processes $ 24, 558 $ 22, 120 intelligent cloud 19, 371 17, 710 more personal computing 4, 479 4, 311 total $ 48, 408 $ 44, 141 changes in unearned revenue were as follows : ( in millions ) year ended june 30, 2022 balance, beginning of period $ 44, 141 deferral of revenue 110, 455 recognition of unearned revenue ( 106, 188 ) balance, end of period $ 48, 408 revenue allocated to remaining performance obligations, which includes unearned revenue and amounts that will be invoiced and recognized as revenue in future periods, was $ 193 billion as of june 30, 2022, of which $ 189 billion is related to the commercial portion of revenue. we expect to recognize approximately 45 % of this revenue over the next 12\n",
      "\n",
      "\n",
      "that are not sold separately. • we tested the mathematical accuracy of management ’ s calculations of revenue and the associated timing of revenue recognized in the financial statements.\n",
      "\n",
      "\n"
     ]
    }
   ],
   "source": [
    "\n",
    "query = \"What was the total revenue?\"\n",
    "\n",
    "retrieved_documents =vector_store.search_vectors(query,n_results=3)       \n",
    "\n",
    "for document in retrieved_documents:\n",
    "       print((document))\n",
    "       print('\\n')"
   ]
  },
  {
   "cell_type": "markdown",
   "metadata": {},
   "source": [
    "Querying the vector datastore using  2nd sample query string --"
   ]
  },
  {
   "cell_type": "code",
   "execution_count": 26,
   "metadata": {},
   "outputs": [
    {
     "name": "stdout",
     "output_type": "stream",
     "text": [
      "1 dear shareholders, colleagues, customers, and partners : we are living through a period of historic economic, societal, and geopolitical change. the world in 2022 looks nothing like the world in 2019. as i write this, inflation is at a 40 - year high, supply chains are stretched, and the war in ukraine is ongoing. at the same time, we are entering a technological era with the potential to power awesome advancements across every sector of our economy and society. as the world ’ s largest software company, this places us at a historic intersection of opportunity and responsibility to the world around us. our mission to empower every person and every organization on the planet to achieve more has never been more urgent or more necessary. for all the uncertainty in the world, one thing is clear : people and organizations in every industry are increasingly looking to digital technology to overcome today ’ s challenges and emerge stronger. and no\n",
      "\n",
      "\n",
      "7 220, 000 people who work at microsoft. essential to this is our commitment to continually exercise our growth mindset and confront our fixed mindset with humility, curiosity, compassion, and the recognition that, while none of us will ever be perfect, we can always be better than we are today. this growth mindset served us well through the historic changes of the past few years. it sustains our everyday practice of customer obsession. it helps us care for our colleagues and collaborate more effectively across the company. and it deeply informs our longstanding commitment to diversity and inclusion. if we want to serve the world, we need to represent the world. each year we strive to increase representation, and 2022 was no exception. we saw the strongest progress in years across several demographic groups, as you can see in our latest diversity & inclusion report. we are one of the most transparent companies of our size when it comes to the data\n",
      "\n",
      "\n"
     ]
    }
   ],
   "source": [
    "query = \"What were Microsoft's mission for 2022?\"\n",
    "\n",
    "retrieved_documents =vector_store.search_vectors(query,n_results=2)       \n",
    "\n",
    "for document in retrieved_documents:\n",
    "       print((document))\n",
    "       print('\\n')"
   ]
  },
  {
   "cell_type": "markdown",
   "metadata": {},
   "source": [
    "More queries...."
   ]
  },
  {
   "cell_type": "code",
   "execution_count": 27,
   "metadata": {},
   "outputs": [
    {
     "name": "stdout",
     "output_type": "stream",
     "text": [
      "addressing the world ’ s most pressing issues. this year, we provided $ 3. 2 billion in donated and discounted technology to 302, 000 nonprofits serving over 1. 2 billion people globally. and earlier this month, we announced that microsoft will double the number of nonprofits we reach worldwide over the next five years. protect fundamental rights we unequivocally support the fundamental rights of people, from defending democracy, to protecting human rights, to addressing racial injustice and inequity. and, as people ’ s access to education, healthcare, jobs, and other critical services becomes increasingly dependent on technology, it ’ s clear that access to broadband and accessible technology is also fundamental to building a more equitable future. since 2017, we ’ ve helped more than 50 million people in unserved rural communities globally gain access to affordable\n",
      "\n",
      "\n"
     ]
    }
   ],
   "source": [
    "query = \"Tell me how did Microsoft Protect fundamental rights in 2022?\"\n",
    "\n",
    "retrieved_documents =vector_store.search_vectors(query,n_results=1)       \n",
    "\n",
    "for document in retrieved_documents:\n",
    "       print((document))\n",
    "       print('\\n')"
   ]
  },
  {
   "cell_type": "code",
   "execution_count": 28,
   "metadata": {},
   "outputs": [
    {
     "name": "stdout",
     "output_type": "stream",
     "text": [
      "share repurchases. this share repurchase program commenced in november 2021, following completion of the program approved on september 18, 2019, has no expiration date, and may be terminated at any time. as of june 30, 2022, $ 40. 7 billion remained of this $ 60. 0 billion share repurchase program. we repurchased the following shares of common stock under the share repurchase programs : ( in millions ) shares amount shares amount shares amount year ended june 30, 2022 2021 2020 first quarter 21 $ 6, 200 25 $ 5, 270 29 $ 4, 000 second quarter 20 6, 233 27 5, 750 32 4, 600 third quarter 26 7, 800 25 5, 750 37 6, 000 fourth quarter 28 7, 800 24 6, 200 28 5, 088 total 95 $ 28, 033 101 $ 22, 970 126 $ 19, 688 all repurchases were made using cash resources. shares repurchased during the fourth and third quarters of fiscal year\n",
      "\n",
      "\n"
     ]
    }
   ],
   "source": [
    "query = \"Tell me what was the total amount shared repurchased by Microsoft Protect in First quarter of 2022?\"\n",
    "\n",
    "retrieved_documents =vector_store.search_vectors(query,n_results=1)       \n",
    "\n",
    "for document in retrieved_documents:\n",
    "       print((document))\n",
    "       print('\\n')"
   ]
  },
  {
   "cell_type": "code",
   "execution_count": 34,
   "metadata": {},
   "outputs": [
    {
     "name": "stdout",
     "output_type": "stream",
     "text": [
      "our future growth depends on our ability to transcend current product category definitions, business models, and sales motions. we have the opportunity to redefine what customers and partners can expect and are working to deliver new solutions that reflect the best of microsoft.\n",
      "\n",
      "\n",
      "microsoft is a technology company whose mission is to empower every person and every organization on the planet to achieve more. we strive to create local opportunity, growth, and impact in every country around the world. our platforms and tools help drive small business productivity, large business competitiveness, and public - sector efficiency. they also support new startups, improve educational and health outcomes, and empower human ingenuity. we generate revenue by offering a wide range of cloud - based and other services to people and businesses ; licensing and supporting an array of software products ; designing, manufacturing, and selling devices ; and delivering relevant online advertising to a global audience. our most significant expenses are related to compensating employees ; designing, manufacturing, marketing, and selling our products and services ; datacenter costs in support of our cloud - based services ; and income taxes.\n",
      "\n",
      "\n",
      "microsoft aims to recruit, develop, and retain world - changing talent from a diversity of backgrounds. to foster their and our success, we seek to create an environment where people can thrive, where they can do their best work, where they can proudly be their authentic selves, guided by our values, and where they know their needs can be met. we strive to maximize the potential of our human capital resources by creating a respectful, rewarding, and inclusive work environment that enables our global employees to create products and services that further our mission to empower every person and every organization on the planet to achieve more.\n",
      "\n",
      "\n"
     ]
    }
   ],
   "source": [
    "query = \"Tell me what ambition drives the Microsoft as a Company?\"\n",
    "\n",
    "retrieved_documents =vector_store.search_vectors(query,n_results=3)       \n",
    "\n",
    "for document in retrieved_documents:\n",
    "       print((document))\n",
    "       print('\\n')"
   ]
  },
  {
   "cell_type": "code",
   "execution_count": 32,
   "metadata": {},
   "outputs": [
    {
     "name": "stdout",
     "output_type": "stream",
     "text": [
      "our future growth depends on our ability to transcend current product category definitions, business models, and sales motions. we have the opportunity to redefine what customers and partners can expect and are working to deliver new solutions that reflect the best of microsoft.\n",
      "\n",
      "\n"
     ]
    }
   ],
   "source": [
    "query = \"Tell me the future opportunities of Microsoft?\"\n",
    "\n",
    "retrieved_documents =vector_store.search_vectors(query,n_results=1)       \n",
    "\n",
    "for document in retrieved_documents:\n",
    "       print((document))\n",
    "       print('\\n')"
   ]
  },
  {
   "cell_type": "code",
   "execution_count": null,
   "metadata": {},
   "outputs": [],
   "source": []
  }
 ],
 "metadata": {
  "kernelspec": {
   "display_name": ".venv",
   "language": "python",
   "name": "python3"
  },
  "language_info": {
   "codemirror_mode": {
    "name": "ipython",
    "version": 3
   },
   "file_extension": ".py",
   "mimetype": "text/x-python",
   "name": "python",
   "nbconvert_exporter": "python",
   "pygments_lexer": "ipython3",
   "version": "3.12.3"
  }
 },
 "nbformat": 4,
 "nbformat_minor": 2
}
